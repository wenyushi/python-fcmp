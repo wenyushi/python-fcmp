{
 "cells": [
  {
   "cell_type": "code",
   "execution_count": 5,
   "metadata": {},
   "outputs": [],
   "source": [
    "from swat import *\n",
    "import swat as sw\n",
    "from pprint import pprint\n",
    "%matplotlib inline\n",
    "import matplotlib\n",
    "import sys\n",
    "\n",
    "sys.path.append('/cas/DeepLearn/weshiz/github_workspace/python-dlpy/')\n",
    "sys.path.append('/cas/DeepLearn/weshiz/github_workspace/python-fcmp')\n",
    "from dlpy.layers import * \n",
    "from dlpy.applications import *\n",
    "from dlpy import Model, Sequential\n",
    "from dlpy.utils import *\n",
    "from dlpy.splitting import two_way_split\n",
    "from dlpy.images import *\n",
    "from dlpy.model import *\n",
    "from python_fcmp.parser import *\n",
    "from python_fcmp.decorator import *\n",
    "from python_fcmp import fcmp\n",
    "from dlpy.lr_scheduler import *\n",
    "from dlpy.network import *\n",
    "\n",
    "import numpy\n",
    "import pandas as pd\n",
    "import pdb"
   ]
  },
  {
   "cell_type": "code",
   "execution_count": 6,
   "metadata": {},
   "outputs": [
    {
     "data": {
      "text/html": [
       "<style>.container { width:100% !important; }</style>"
      ],
      "text/plain": [
       "<IPython.core.display.HTML object>"
      ]
     },
     "metadata": {},
     "output_type": "display_data"
    }
   ],
   "source": [
    "from IPython.core.display import display, HTML\n",
    "display(HTML(\"<style>.container { width:100% !important; }</style>\"))"
   ]
  },
  {
   "cell_type": "code",
   "execution_count": 7,
   "metadata": {},
   "outputs": [
    {
     "name": "stdout",
     "output_type": "stream",
     "text": [
      "NOTE: Added action set 'deeplearn'.\n",
      "NOTE: Added action set 'clustering'.\n"
     ]
    },
    {
     "data": {
      "text/html": [
       "<div class=\"cas-results-key\"><b>&#167; actionset</b></div>\n",
       "<div class=\"cas-results-body\">\n",
       "<div>clustering</div>\n",
       "</div>\n",
       "<div class=\"cas-output-area\"></div>\n",
       "<p class=\"cas-results-performance\"><small><span class=\"cas-elapsed\">elapsed 0.00221s</span> &#183; <span class=\"cas-user\">user 0.00109s</span> &#183; <span class=\"cas-sys\">sys 0.00105s</span> &#183; <span class=\"cas-memory\">mem 0.225MB</span></small></p>"
      ],
      "text/plain": [
       "[actionset]\n",
       "\n",
       " 'clustering'\n",
       "\n",
       "+ Elapsed: 0.00221s, user: 0.00109s, sys: 0.00105s, mem: 0.225mb"
      ]
     },
     "execution_count": 7,
     "metadata": {},
     "output_type": "execute_result"
    }
   ],
   "source": [
    "s = sw.CAS('dlgrd009', 23309)\n",
    "s.loadactionset('deeplearn')\n",
    "s.loadactionset('clustering')"
   ]
  },
  {
   "cell_type": "code",
   "execution_count": 8,
   "metadata": {},
   "outputs": [
    {
     "name": "stdout",
     "output_type": "stream",
     "text": [
      "NOTE: 'CASUSER(weshiz)' is now the active caslib.\n"
     ]
    },
    {
     "data": {
      "text/html": [
       "<div class=\"cas-output-area\"></div>\n",
       "<p class=\"cas-results-performance\"><small><span class=\"cas-elapsed\">elapsed 0.000214s</span> &#183; <span class=\"cas-user\">user 0.0002s</span> &#183; <span class=\"cas-memory\">mem 0.256MB</span></small></p>"
      ],
      "text/plain": [
       "+ Elapsed: 0.000214s, user: 0.0002s, mem: 0.256mb"
      ]
     },
     "execution_count": 8,
     "metadata": {},
     "output_type": "execute_result"
    }
   ],
   "source": [
    "# https://go.documentation.sas.com/?docsetId=lesysoptsref&docsetTarget=n16rhscxem9ljwn1kuhn5170xkbg.htm&docsetVersion=9.4&locale=en\n",
    "s.sessionProp.setSessOpt(caslib='CASUSER', cmplib=\"CASUSER.fcmpfunction\", cmpopt=\"ALL\")"
   ]
  },
  {
   "cell_type": "code",
   "execution_count": 9,
   "metadata": {},
   "outputs": [
    {
     "name": "stdout",
     "output_type": "stream",
     "text": [
      "Arguments, srcY, weights, y_out, are casted to array type\n",
      "Arguments, y_out, are declared as outargs.\n",
      "Arguments, srcY, Y, weights, deltas, gradient_out, srcDeltas_out, are casted to array type\n",
      "Arguments, gradient_out, srcDeltas_out, are declared as outargs.\n"
     ]
    }
   ],
   "source": [
    "@out_args('y_out')  # pass by reference\n",
    "@cast_array('srcY', 'weights', 'y_out')  # declare the arguments as array type\n",
    "def forward_prop(srcHeight, srcWidth, srcDepth, srcY, weights, y_out):\n",
    "    o_width = 8\n",
    "    o_height = 8\n",
    "    o_channel = 3\n",
    "    \n",
    "    i_hw = srcHeight * srcWidth\n",
    "    \n",
    "    s_h = (srcHeight-1)/(o_height-1)\n",
    "    s_w = (srcWidth-1)/(o_width-1)\n",
    "    \n",
    "    for m in range(o_channel):\n",
    "        for j in range(o_height):\n",
    "            for i in range(o_width):\n",
    "                in_y = s_h * j\n",
    "                in_x = s_w * i\n",
    "                top_y = fcmp.floor(in_y)\n",
    "                bottom_y = fcmp.ceil(in_y)\n",
    "                y_lerp = in_y - top_y\n",
    "                \n",
    "                left_x = fcmp.floor(in_x)\n",
    "                right_x = fcmp.ceil(in_x)\n",
    "                x_lerp = in_x - left_x\n",
    "                \n",
    "                top_y_bound = max(min(top_y, srcHeight-1), 0)\n",
    "                bottom_y_bound = max(min(bottom_y, srcHeight-1), 0)\n",
    "                \n",
    "                left_x_bound = max(min(left_x, srcWidth-1), 0)\n",
    "                right_x_bound = max(min(right_x, srcWidth-1), 0)\n",
    "\n",
    "                \n",
    "                # get four interpolated points\n",
    "                top_left = srcY[m*i_hw+top_y_bound*srcWidth+left_x_bound]\n",
    "                top_right = srcY[m*i_hw+top_y_bound*srcWidth+right_x_bound]\n",
    "                bottom_left = srcY[m*i_hw+bottom_y_bound*srcWidth+left_x_bound]\n",
    "                bottom_right= srcY[m*i_hw+bottom_y_bound*srcWidth+right_x_bound]\n",
    "                \n",
    "                top = top_left*(1 - x_lerp) + top_right*x_lerp\n",
    "                bottom = bottom_left * (1 - x_lerp) + bottom_right * x_lerp\n",
    "                \n",
    "                y_out[m*o_height*o_width+j*o_width+i] = top * (1 - y_lerp) + bottom * y_lerp\n",
    "    \n",
    "    return \n",
    "\n",
    "@out_args('gradient_out', 'srcDeltas_out')\n",
    "@cast_array('srcY', 'Y', 'weights', 'deltas', 'gradient_out', 'srcDeltas_out')\n",
    "def back_prop(srcHeight, srcWidth, srcDepth, srcY, Y, weights, deltas, gradient_out, srcDeltas_out):\n",
    "    for i in range(srcHeight*srcWidth*srcDepth):\n",
    "        srcDeltas_out[i] = 0\n",
    "    \n",
    "    return\n",
    "\n",
    "def dummy_loss(t, target):\n",
    "    return t"
   ]
  },
  {
   "cell_type": "code",
   "execution_count": 10,
   "metadata": {},
   "outputs": [
    {
     "name": "stdout",
     "output_type": "stream",
     "text": [
      "('function forward_prop(srcHeight, srcWidth, srcDepth, srcY[*], weights[*], y_out[*]);outargs y_out;\\n'\n",
      " '    o_width = 8;\\n'\n",
      " '    o_height = 8;\\n'\n",
      " '    o_channel = 3;\\n'\n",
      " '    i_hw = (srcHeight * srcWidth);\\n'\n",
      " '    s_h = ((srcHeight - 1) / (o_height - 1));\\n'\n",
      " '    s_w = ((srcWidth - 1) / (o_width - 1));\\n'\n",
      " '    do m = 0 to o_channel - 1 by 1;\\n'\n",
      " '        do j = 0 to o_height - 1 by 1;\\n'\n",
      " '            do i = 0 to o_width - 1 by 1;\\n'\n",
      " '                in_y = (s_h * j);\\n'\n",
      " '                in_x = (s_w * i);\\n'\n",
      " '                top_y = floor(in_y);\\n'\n",
      " '                bottom_y = ceil(in_y);\\n'\n",
      " '                y_lerp = (in_y - top_y);\\n'\n",
      " '                left_x = floor(in_x);\\n'\n",
      " '                right_x = ceil(in_x);\\n'\n",
      " '                x_lerp = (in_x - left_x);\\n'\n",
      " '                top_y_bound = max(min(top_y, (srcHeight - 1)), 0);\\n'\n",
      " '                bottom_y_bound = max(min(bottom_y, (srcHeight - 1)), 0);\\n'\n",
      " '                left_x_bound = max(min(left_x, (srcWidth - 1)), 0);\\n'\n",
      " '                right_x_bound = max(min(right_x, (srcWidth - 1)), 0);\\n'\n",
      " '                top_left = srcY[(((m * i_hw) + (top_y_bound * srcWidth)) + left_x_bound) + 1];\\n'\n",
      " '                top_right = srcY[(((m * i_hw) + (top_y_bound * srcWidth)) + right_x_bound) + 1];\\n'\n",
      " '                bottom_left = srcY[(((m * i_hw) + (bottom_y_bound * srcWidth)) + left_x_bound) + 1];\\n'\n",
      " '                bottom_right = srcY[(((m * i_hw) + (bottom_y_bound * srcWidth)) + right_x_bound) + 1];\\n'\n",
      " '                top = ((top_left * (1 - x_lerp)) + (top_right * x_lerp));\\n'\n",
      " '                bottom = ((bottom_left * (1 - x_lerp)) + (bottom_right * x_lerp));\\n'\n",
      " '                y_out[((((m * o_height) * o_width) + (j * o_width)) + i) + 1] = ((top * (1 - y_lerp)) + (bottom * y_lerp));\\n'\n",
      " '            end;\\n'\n",
      " '        end;\\n'\n",
      " '    end;\\n'\n",
      " '    return ;\\n'\n",
      " 'endsub;\\n')\n"
     ]
    }
   ],
   "source": [
    "forward_fcmp_code = python_to_fcmp(func=forward_prop, print=True)"
   ]
  },
  {
   "cell_type": "code",
   "execution_count": 11,
   "metadata": {},
   "outputs": [],
   "source": [
    "A = np.random.randint(0, 5, 4*4*3)"
   ]
  },
  {
   "cell_type": "code",
   "execution_count": 12,
   "metadata": {},
   "outputs": [
    {
     "data": {
      "text/plain": [
       "array([[[0, 0, 1],\n",
       "        [3, 0, 0],\n",
       "        [0, 1, 4],\n",
       "        [4, 1, 1]],\n",
       "\n",
       "       [[2, 1, 0],\n",
       "        [1, 4, 0],\n",
       "        [1, 3, 4],\n",
       "        [3, 2, 2]],\n",
       "\n",
       "       [[2, 2, 1],\n",
       "        [3, 2, 1],\n",
       "        [4, 0, 3],\n",
       "        [1, 1, 4]],\n",
       "\n",
       "       [[1, 2, 0],\n",
       "        [2, 4, 1],\n",
       "        [1, 3, 2],\n",
       "        [1, 0, 4]]])"
      ]
     },
     "execution_count": 12,
     "metadata": {},
     "output_type": "execute_result"
    }
   ],
   "source": [
    "A.reshape(4, 4, 3)"
   ]
  },
  {
   "cell_type": "code",
   "execution_count": 13,
   "metadata": {},
   "outputs": [],
   "source": [
    "y = np.zeros((8 * 8 * 3))\n",
    "forward_prop(4, 4, 3, A, None, y)"
   ]
  },
  {
   "cell_type": "code",
   "execution_count": 14,
   "metadata": {},
   "outputs": [
    {
     "data": {
      "text/plain": [
       "array([[[0.        , 0.        , 0.        ],\n",
       "        [0.28571429, 0.71428571, 1.28571429],\n",
       "        [2.14285714, 3.        , 0.        ],\n",
       "        [0.        , 0.        , 0.16326531],\n",
       "        [0.40816327, 0.79591837, 1.46938776],\n",
       "        [2.14285714, 0.        , 0.        ],\n",
       "        [0.        , 0.04081633, 0.10204082],\n",
       "        [0.30612245, 0.79591837, 1.28571429]],\n",
       "\n",
       "       [[1.14285714, 1.14285714, 1.14285714],\n",
       "        [0.89795918, 0.53061224, 0.3877551 ],\n",
       "        [0.69387755, 1.        , 2.85714286],\n",
       "        [2.85714286, 2.85714286, 2.24489796],\n",
       "        [1.32653061, 0.75510204, 0.87755102],\n",
       "        [1.        , 3.71428571, 3.65306122],\n",
       "        [3.59183673, 2.79591837, 1.63265306],\n",
       "        [0.87755102, 0.93877551, 1.        ]],\n",
       "\n",
       "       [[2.85714286, 2.6122449 , 2.36734694],\n",
       "        [1.75510204, 0.95918367, 0.51020408],\n",
       "        [0.75510204, 1.        , 2.        ],\n",
       "        [1.57142857, 1.14285714, 0.71428571],\n",
       "        [0.28571429, 0.14285714, 0.57142857],\n",
       "        [1.        , 4.        , 2.28571429],\n",
       "        [0.57142857, 0.28571429, 0.71428571],\n",
       "        [1.28571429, 2.14285714, 3.        ]],\n",
       "\n",
       "       [[4.        , 2.83673469, 1.67346939],\n",
       "        [1.32653061, 1.3877551 , 1.59183673],\n",
       "        [2.08163265, 2.57142857, 4.        ],\n",
       "        [3.3877551 , 2.7755102 , 2.36734694],\n",
       "        [2.06122449, 1.89795918, 2.02040816],\n",
       "        [2.14285714, 3.42857143, 3.12244898],\n",
       "        [2.81632653, 2.42857143, 2.        ],\n",
       "        [1.79591837, 2.04081633, 2.28571429]],\n",
       "\n",
       "       [[2.57142857, 2.44897959, 2.32653061],\n",
       "        [2.        , 1.57142857, 1.48979592],\n",
       "        [2.10204082, 2.71428571, 2.        ],\n",
       "        [1.93877551, 1.87755102, 1.73469388],\n",
       "        [1.55102041, 1.59183673, 2.08163265],\n",
       "        [2.57142857, 2.        , 1.75510204],\n",
       "        [1.51020408, 1.79591837, 2.34693878],\n",
       "        [2.51020408, 1.89795918, 1.28571429]],\n",
       "\n",
       "       [[2.        , 1.57142857, 1.14285714],\n",
       "        [1.85714286, 3.14285714, 3.42857143],\n",
       "        [1.71428571, 0.        , 3.        ],\n",
       "        [2.14285714, 1.28571429, 1.        ],\n",
       "        [1.        , 1.42857143, 2.71428571],\n",
       "        [4.        , 2.14285714, 1.83673469],\n",
       "        [1.53061224, 1.18367347, 0.81632653],\n",
       "        [0.93877551, 2.04081633, 3.14285714]],\n",
       "\n",
       "       [[1.28571429, 1.53061224, 1.7755102 ],\n",
       "        [1.36734694, 0.63265306, 0.44897959],\n",
       "        [1.36734694, 2.28571429, 1.85714286],\n",
       "        [1.79591837, 1.73469388, 1.30612245],\n",
       "        [0.69387755, 0.57142857, 1.42857143],\n",
       "        [2.28571429, 3.14285714, 2.34693878],\n",
       "        [1.55102041, 1.12244898, 0.87755102],\n",
       "        [1.        , 1.85714286, 2.71428571]],\n",
       "\n",
       "       [[3.71428571, 2.55102041, 1.3877551 ],\n",
       "        [0.95918367, 0.89795918, 1.18367347],\n",
       "        [2.16326531, 3.14285714, 2.85714286],\n",
       "        [2.06122449, 1.26530612, 0.83673469],\n",
       "        [0.59183673, 0.87755102, 2.2244898 ],\n",
       "        [3.57142857, 2.        , 1.57142857],\n",
       "        [1.14285714, 0.71428571, 0.28571429],\n",
       "        [0.57142857, 2.28571429, 4.        ]]])"
      ]
     },
     "execution_count": 14,
     "metadata": {},
     "output_type": "execute_result"
    }
   ],
   "source": [
    "y.reshape(8, 8, 3)"
   ]
  },
  {
   "cell_type": "code",
   "execution_count": 15,
   "metadata": {},
   "outputs": [
    {
     "name": "stdout",
     "output_type": "stream",
     "text": [
      "('function back_prop(srcHeight, srcWidth, srcDepth, srcY[*], Y[*], weights[*], deltas[*], gradient_out[*], srcDeltas_out[*]);outargs gradient_out, srcDeltas_out;\\n'\n",
      " '    do i = 0 to ((srcHeight * srcWidth) * srcDepth) - 1 by 1;\\n'\n",
      " '        srcDeltas_out[i + 1] = 0;\\n'\n",
      " '    end;\\n'\n",
      " '    return ;\\n'\n",
      " 'endsub;\\n')\n"
     ]
    }
   ],
   "source": [
    "backward_fcmp_code = python_to_fcmp(func=back_prop, print=True)"
   ]
  },
  {
   "cell_type": "code",
   "execution_count": 16,
   "metadata": {},
   "outputs": [
    {
     "name": "stdout",
     "output_type": "stream",
     "text": [
      "NOTE: Cloud Analytic Services saved the file FCMPFUNCTION.sashdat in caslib CASUSER(weshiz).\n"
     ]
    }
   ],
   "source": [
    "# register forward and backward function together\n",
    "register_fcmp_routines(s,\n",
    "                       routine_code= forward_fcmp_code + backward_fcmp_code,\n",
    "                       function_tbl_name='fcmpfunction')"
   ]
  },
  {
   "cell_type": "code",
   "execution_count": 17,
   "metadata": {},
   "outputs": [],
   "source": [
    "test = ImageTable.load_files(conn=s, path='/cas/DeepLearn/weshiz/data')"
   ]
  },
  {
   "cell_type": "code",
   "execution_count": 18,
   "metadata": {},
   "outputs": [],
   "source": [
    "test.resize(4, 4)"
   ]
  },
  {
   "cell_type": "code",
   "execution_count": 19,
   "metadata": {},
   "outputs": [
    {
     "name": "stdout",
     "output_type": "stream",
     "text": [
      "NOTE: Table IMAGEDATA_RI2OGK contains compressed images.\n",
      "NOTE: 179 out of 179 images were scanned and results were saved to the summary table.\n"
     ]
    },
    {
     "data": {
      "text/html": [
       "<div class=\"cas-results-key\"><b>&#167; Summary</b></div>\n",
       "<div class=\"cas-results-body\">\n",
       "<div>\n",
       "<style scoped>\n",
       "    .dataframe tbody tr th:only-of-type {\n",
       "        vertical-align: middle;\n",
       "    }\n",
       "\n",
       "    .dataframe tbody tr th {\n",
       "        vertical-align: top;\n",
       "    }\n",
       "\n",
       "    .dataframe thead th {\n",
       "        text-align: right;\n",
       "    }\n",
       "</style>\n",
       "<table border=\"1\" class=\"dataframe\">\n",
       "  <thead>\n",
       "    <tr style=\"text-align: right;\">\n",
       "      <th title=\"\"></th>\n",
       "      <th title=\"Image column\">Column</th>\n",
       "      <th title=\"JPG images count\">jpg</th>\n",
       "      <th title=\"Minimum width\">minWidth</th>\n",
       "      <th title=\"Maximum width\">maxWidth</th>\n",
       "      <th title=\"Minimum height\">minHeight</th>\n",
       "      <th title=\"Maximum height\">maxHeight</th>\n",
       "      <th title=\"Average width\">meanWidth</th>\n",
       "      <th title=\"Average height\">meanHeight</th>\n",
       "      <th title=\"Average intensity of B\">mean1stChannel</th>\n",
       "      <th title=\"Minimum intensity of B\">min1stChannel</th>\n",
       "      <th title=\"Maximum intensity of B\">max1stChannel</th>\n",
       "      <th title=\"Average intensity of G\">mean2ndChannel</th>\n",
       "      <th title=\"Minimum intensity of G\">min2ndChannel</th>\n",
       "      <th title=\"Maximum intensity of G\">max2ndChannel</th>\n",
       "      <th title=\"Average intensity of R\">mean3rdChannel</th>\n",
       "      <th title=\"Minimum intensity of R\">min3rdChannel</th>\n",
       "      <th title=\"Maximum intensity of R\">max3rdChannel</th>\n",
       "    </tr>\n",
       "  </thead>\n",
       "  <tbody>\n",
       "    <tr>\n",
       "      <th>0</th>\n",
       "      <td>_image_</td>\n",
       "      <td>179.0</td>\n",
       "      <td>4.0</td>\n",
       "      <td>4.0</td>\n",
       "      <td>4.0</td>\n",
       "      <td>4.0</td>\n",
       "      <td>4.0</td>\n",
       "      <td>4.0</td>\n",
       "      <td>66.390363</td>\n",
       "      <td>0.0</td>\n",
       "      <td>255.0</td>\n",
       "      <td>71.651885</td>\n",
       "      <td>0.0</td>\n",
       "      <td>255.0</td>\n",
       "      <td>71.80831</td>\n",
       "      <td>0.0</td>\n",
       "      <td>255.0</td>\n",
       "    </tr>\n",
       "  </tbody>\n",
       "</table>\n",
       "</div>\n",
       "</div>\n",
       "<div class=\"cas-output-area\"></div>\n",
       "<p class=\"cas-results-performance\"><small><span class=\"cas-elapsed\">elapsed 0.0113s</span> &#183; <span class=\"cas-user\">user 0.0104s</span> &#183; <span class=\"cas-sys\">sys 0.0215s</span> &#183; <span class=\"cas-memory\">mem 5.07MB</span></small></p>"
      ],
      "text/plain": [
       "[Summary]\n",
       "\n",
       "     Column    jpg  minWidth  maxWidth  minHeight  maxHeight  meanWidth  \\\n",
       " 0  _image_  179.0       4.0       4.0        4.0        4.0        4.0   \n",
       " \n",
       "    meanHeight  mean1stChannel  min1stChannel  max1stChannel  mean2ndChannel  \\\n",
       " 0         4.0       66.390363            0.0          255.0       71.651885   \n",
       " \n",
       "    min2ndChannel  max2ndChannel  mean3rdChannel  min3rdChannel  max3rdChannel  \n",
       " 0            0.0          255.0        71.80831            0.0          255.0  \n",
       "\n",
       "+ Elapsed: 0.0113s, user: 0.0104s, sys: 0.0215s, mem: 5.07mb"
      ]
     },
     "execution_count": 19,
     "metadata": {},
     "output_type": "execute_result"
    }
   ],
   "source": [
    "test.summarizeimages()"
   ]
  },
  {
   "cell_type": "code",
   "execution_count": 20,
   "metadata": {},
   "outputs": [
    {
     "data": {
      "text/html": [
       "<div class=\"cas-results-key\"><b>&#167; Frequency</b></div>\n",
       "<div class=\"cas-results-body\">\n",
       "<div>\n",
       "<style scoped>\n",
       "    .dataframe tbody tr th:only-of-type {\n",
       "        vertical-align: middle;\n",
       "    }\n",
       "\n",
       "    .dataframe tbody tr th {\n",
       "        vertical-align: top;\n",
       "    }\n",
       "\n",
       "    .dataframe thead th {\n",
       "        text-align: right;\n",
       "    }\n",
       "</style>\n",
       "<table border=\"1\" class=\"dataframe\"><caption>Frequency for IMAGEDATA_RI2OGK</caption>\n",
       "  <thead>\n",
       "    <tr style=\"text-align: right;\">\n",
       "      <th title=\"\"></th>\n",
       "      <th title=\"Analysis Variable\">Column</th>\n",
       "      <th title=\"Character Value\">CharVar</th>\n",
       "      <th title=\"Formatted Value\">FmtVar</th>\n",
       "      <th title=\"Level\">Level</th>\n",
       "      <th title=\"Frequency\">Frequency</th>\n",
       "    </tr>\n",
       "  </thead>\n",
       "  <tbody>\n",
       "    <tr>\n",
       "      <th>0</th>\n",
       "      <td>_label_</td>\n",
       "      <td>chemical_test</td>\n",
       "      <td>chemical_test</td>\n",
       "      <td>1</td>\n",
       "      <td>7.0</td>\n",
       "    </tr>\n",
       "    <tr>\n",
       "      <th>1</th>\n",
       "      <td>_label_</td>\n",
       "      <td>face</td>\n",
       "      <td>face</td>\n",
       "      <td>2</td>\n",
       "      <td>2.0</td>\n",
       "    </tr>\n",
       "    <tr>\n",
       "      <th>2</th>\n",
       "      <td>_label_</td>\n",
       "      <td>mask</td>\n",
       "      <td>mask</td>\n",
       "      <td>3</td>\n",
       "      <td>85.0</td>\n",
       "    </tr>\n",
       "    <tr>\n",
       "      <th>3</th>\n",
       "      <td>_label_</td>\n",
       "      <td>sas_football</td>\n",
       "      <td>sas_football</td>\n",
       "      <td>4</td>\n",
       "      <td>85.0</td>\n",
       "    </tr>\n",
       "  </tbody>\n",
       "</table>\n",
       "</div>\n",
       "</div>\n",
       "<div class=\"cas-output-area\"></div>\n",
       "<p class=\"cas-results-performance\"><small><span class=\"cas-elapsed\">elapsed 0.0099s</span> &#183; <span class=\"cas-user\">user 0.00982s</span> &#183; <span class=\"cas-sys\">sys 0.00744s</span> &#183; <span class=\"cas-memory\">mem 10MB</span></small></p>"
      ],
      "text/plain": [
       "[Frequency]\n",
       "\n",
       " Frequency for IMAGEDATA_RI2OGK\n",
       " \n",
       "     Column        CharVar         FmtVar  Level  Frequency\n",
       " 0  _label_  chemical_test  chemical_test      1        7.0\n",
       " 1  _label_           face           face      2        2.0\n",
       " 2  _label_           mask           mask      3       85.0\n",
       " 3  _label_   sas_football   sas_football      4       85.0\n",
       "\n",
       "+ Elapsed: 0.0099s, user: 0.00982s, sys: 0.00744s, mem: 10mb"
      ]
     },
     "execution_count": 20,
     "metadata": {},
     "output_type": "execute_result"
    }
   ],
   "source": [
    "test.freq(inputs='_label_')"
   ]
  },
  {
   "cell_type": "code",
   "execution_count": 21,
   "metadata": {},
   "outputs": [
    {
     "name": "stdout",
     "output_type": "stream",
     "text": [
      "NOTE: Input layer added.\n",
      "NOTE: FCMP layer added.\n",
      "NOTE: Output layer added.\n",
      "NOTE: Model compiled successfully.\n"
     ]
    }
   ],
   "source": [
    "model = Sequential(conn=s, model_table='lenet5')\n",
    "\n",
    "model.add(InputLayer(n_channels=3, width=4, height=4, scale=1.0/255, offsets=None,\n",
    "                     random_flip=None, random_crop=None))\n",
    "\n",
    "# instance normalizationi\n",
    "model.add(FCMPLayer(width=8, height=8, depth=3, n_weights=0, \n",
    "                    forward_func='forward_prop', backward_func='back_prop',\n",
    "                    name='FCMPLayer1'))\n",
    "\n",
    "model.add(OutputLayer(n=4))"
   ]
  },
  {
   "cell_type": "code",
   "execution_count": 22,
   "metadata": {},
   "outputs": [
    {
     "data": {
      "text/html": [
       "<div>\n",
       "<style scoped>\n",
       "    .dataframe tbody tr th:only-of-type {\n",
       "        vertical-align: middle;\n",
       "    }\n",
       "\n",
       "    .dataframe tbody tr th {\n",
       "        vertical-align: top;\n",
       "    }\n",
       "\n",
       "    .dataframe thead th {\n",
       "        text-align: right;\n",
       "    }\n",
       "</style>\n",
       "<table border=\"1\" class=\"dataframe\">\n",
       "  <thead>\n",
       "    <tr style=\"text-align: right;\">\n",
       "      <th></th>\n",
       "      <th>Layer Id</th>\n",
       "      <th>Layer</th>\n",
       "      <th>Type</th>\n",
       "      <th>Kernel Size</th>\n",
       "      <th>Stride</th>\n",
       "      <th>Activation</th>\n",
       "      <th>Output Size</th>\n",
       "      <th>Number of Parameters</th>\n",
       "      <th>FLOPS(forward pass)</th>\n",
       "    </tr>\n",
       "  </thead>\n",
       "  <tbody>\n",
       "    <tr>\n",
       "      <th>0</th>\n",
       "      <td>0</td>\n",
       "      <td>Input1</td>\n",
       "      <td>input</td>\n",
       "      <td></td>\n",
       "      <td></td>\n",
       "      <td>None</td>\n",
       "      <td>(4, 4, 3)</td>\n",
       "      <td>(0, 0)</td>\n",
       "      <td>0</td>\n",
       "    </tr>\n",
       "    <tr>\n",
       "      <th>1</th>\n",
       "      <td>1</td>\n",
       "      <td>FCMPLayer1</td>\n",
       "      <td>FCMP</td>\n",
       "      <td></td>\n",
       "      <td></td>\n",
       "      <td>None</td>\n",
       "      <td>(8, 8, 3)</td>\n",
       "      <td>(0, 0)</td>\n",
       "      <td>0</td>\n",
       "    </tr>\n",
       "    <tr>\n",
       "      <th>2</th>\n",
       "      <td>2</td>\n",
       "      <td>Output1</td>\n",
       "      <td>output</td>\n",
       "      <td></td>\n",
       "      <td></td>\n",
       "      <td>Softmax</td>\n",
       "      <td>4</td>\n",
       "      <td>(768, 4)</td>\n",
       "      <td>0</td>\n",
       "    </tr>\n",
       "    <tr>\n",
       "      <th>3</th>\n",
       "      <td></td>\n",
       "      <td></td>\n",
       "      <td></td>\n",
       "      <td></td>\n",
       "      <td></td>\n",
       "      <td></td>\n",
       "      <td></td>\n",
       "      <td>Total number of parameters</td>\n",
       "      <td>Total FLOPS</td>\n",
       "    </tr>\n",
       "    <tr>\n",
       "      <th>4</th>\n",
       "      <td>Summary</td>\n",
       "      <td></td>\n",
       "      <td></td>\n",
       "      <td></td>\n",
       "      <td></td>\n",
       "      <td></td>\n",
       "      <td></td>\n",
       "      <td>772</td>\n",
       "      <td>0</td>\n",
       "    </tr>\n",
       "  </tbody>\n",
       "</table>\n",
       "</div>"
      ],
      "text/plain": [
       "  Layer Id       Layer    Type Kernel Size Stride Activation Output Size  \\\n",
       "0        0      Input1   input                          None   (4, 4, 3)   \n",
       "1        1  FCMPLayer1    FCMP                          None   (8, 8, 3)   \n",
       "2        2     Output1  output                       Softmax           4   \n",
       "3                                                                          \n",
       "4  Summary                                                                 \n",
       "\n",
       "         Number of Parameters FLOPS(forward pass)  \n",
       "0                      (0, 0)                   0  \n",
       "1                      (0, 0)                   0  \n",
       "2                    (768, 4)                   0  \n",
       "3  Total number of parameters         Total FLOPS  \n",
       "4                         772                   0  "
      ]
     },
     "execution_count": 22,
     "metadata": {},
     "output_type": "execute_result"
    }
   ],
   "source": [
    "model.print_summary()"
   ]
  },
  {
   "cell_type": "code",
   "execution_count": 23,
   "metadata": {},
   "outputs": [],
   "source": [
    "solver = VanillaSolver(clip_grad_max=100, clip_grad_min=-100, learning_rate=0.001,\n",
    "                       learning_rate_policy='step', gamma=0.1, step_size=30)\n",
    "optimizer = Optimizer(algorithm=solver, seed=13309, max_epochs=1, log_level=5, mini_batch_size=32, reg_l2=0.0001)"
   ]
  },
  {
   "cell_type": "code",
   "execution_count": 24,
   "metadata": {},
   "outputs": [
    {
     "name": "stdout",
     "output_type": "stream",
     "text": [
      "NOTE: Training from scratch.\n",
      "NOTE: Due to data distribution, miniBatchSize has been limited to 30.\n",
      "NOTE:  Synchronous mode is enabled.\n",
      "NOTE:  The total number of parameters is 772.\n",
      "NOTE:  The approximate memory cost is 1.00 MB.\n",
      "NOTE:  Loading weights cost       0.00 (s).\n",
      "NOTE:  Initializing each layer cost       0.01 (s).\n",
      "NOTE:  The total number of threads on each worker is 8.\n",
      "NOTE:  The total mini-batch size per thread on each worker is 32.\n",
      "NOTE:  The maximum mini-batch size across all workers for the synchronous mode is 256.\n",
      "NOTE:  Target variable: _label_\n",
      "NOTE:  Number of levels for the target variable:      4\n",
      "NOTE:  Levels for the target variable:\n",
      "NOTE:  Level      0: chemical_test\n",
      "NOTE:  Level      1: face         \n",
      "NOTE:  Level      2: mask         \n",
      "NOTE:  Level      3: sas_football \n",
      "NOTE:  Number of input variables:     1\n",
      "NOTE:  Number of numeric input variables:      1\n",
      "NOTE:  Number of FCMP layers in model: 1\n",
      "NOTE:  FCMP layer 'fcmplayer1' has input tensor size: width=4, height=4, depth=3\n",
      "NOTE:  FCMP layer 'fcmplayer1' has output tensor size: width=8, height=8, depth=3\n",
      "NOTE:  FCMP layer 'fcmplayer1' has 0 weights.\n",
      "NOTE:  Batch nUsed Learning Rate        Loss  Fit Error     L2Norm   Time(s) (Training)\n",
      "NOTE:      0   240    0.001            1.611     0.9042     0.0004     0.00\n",
      "NOTE:          LayerID  LayerName  StatsName  Value\n",
      "NOTE:                2    output1       Loss 1.611251\n",
      "NOTE:                2    output1  Fit Error 0.904167\n",
      "NOTE:                2    output1  FitTopErr        0\n",
      "NOTE:  Epoch Learning Rate        Loss  Fit Error   Time(s)\n",
      "NOTE:  0         0.001           1.611     0.9042     0.00\n",
      "NOTE:          LayerID  LayerName  StatsName  Value\n",
      "NOTE:                2    output1       Loss 1.611251\n",
      "NOTE:                2    output1  Fit Error 0.904167\n",
      "NOTE:                2    output1  FitTopErr        0\n",
      "NOTE:  The optimization reached the maximum number of epochs.\n",
      "NOTE:  The total time is       0.00 (s).\n"
     ]
    },
    {
     "data": {
      "text/html": [
       "<div class=\"cas-results-key\"><b>&#167; ModelInfo</b></div>\n",
       "<div class=\"cas-results-body\">\n",
       "<div>\n",
       "<style scoped>\n",
       "    .dataframe tbody tr th:only-of-type {\n",
       "        vertical-align: middle;\n",
       "    }\n",
       "\n",
       "    .dataframe tbody tr th {\n",
       "        vertical-align: top;\n",
       "    }\n",
       "\n",
       "    .dataframe thead th {\n",
       "        text-align: right;\n",
       "    }\n",
       "</style>\n",
       "<table border=\"1\" class=\"dataframe\">\n",
       "  <thead>\n",
       "    <tr style=\"text-align: right;\">\n",
       "      <th title=\"\"></th>\n",
       "      <th title=\"Descr\">Descr</th>\n",
       "      <th title=\"Value\">Value</th>\n",
       "    </tr>\n",
       "  </thead>\n",
       "  <tbody>\n",
       "    <tr>\n",
       "      <th>0</th>\n",
       "      <td>Model Name</td>\n",
       "      <td>lenet5</td>\n",
       "    </tr>\n",
       "    <tr>\n",
       "      <th>1</th>\n",
       "      <td>Model Type</td>\n",
       "      <td>Convolutional Neural Network</td>\n",
       "    </tr>\n",
       "    <tr>\n",
       "      <th>2</th>\n",
       "      <td>Number of Layers</td>\n",
       "      <td>3</td>\n",
       "    </tr>\n",
       "    <tr>\n",
       "      <th>3</th>\n",
       "      <td>Number of Input Layers</td>\n",
       "      <td>1</td>\n",
       "    </tr>\n",
       "    <tr>\n",
       "      <th>4</th>\n",
       "      <td>Number of Output Layers</td>\n",
       "      <td>1</td>\n",
       "    </tr>\n",
       "    <tr>\n",
       "      <th>5</th>\n",
       "      <td>Number of Convolutional Layers</td>\n",
       "      <td>0</td>\n",
       "    </tr>\n",
       "    <tr>\n",
       "      <th>6</th>\n",
       "      <td>Number of Pooling Layers</td>\n",
       "      <td>0</td>\n",
       "    </tr>\n",
       "    <tr>\n",
       "      <th>7</th>\n",
       "      <td>Number of Fully Connected Layers</td>\n",
       "      <td>0</td>\n",
       "    </tr>\n",
       "    <tr>\n",
       "      <th>8</th>\n",
       "      <td>Number of FCMP Layers</td>\n",
       "      <td>1</td>\n",
       "    </tr>\n",
       "    <tr>\n",
       "      <th>9</th>\n",
       "      <td>Number of Weight Parameters</td>\n",
       "      <td>768</td>\n",
       "    </tr>\n",
       "    <tr>\n",
       "      <th>10</th>\n",
       "      <td>Number of Bias Parameters</td>\n",
       "      <td>4</td>\n",
       "    </tr>\n",
       "    <tr>\n",
       "      <th>11</th>\n",
       "      <td>Total Number of Model Parameters</td>\n",
       "      <td>772</td>\n",
       "    </tr>\n",
       "    <tr>\n",
       "      <th>12</th>\n",
       "      <td>Approximate Memory Cost for Training (MB)</td>\n",
       "      <td>1</td>\n",
       "    </tr>\n",
       "  </tbody>\n",
       "</table>\n",
       "</div>\n",
       "</div>\n",
       "<div class=\"cas-results-key\"><hr/><b>&#167; OptIterHistory</b></div>\n",
       "<div class=\"cas-results-body\">\n",
       "<div>\n",
       "<style scoped>\n",
       "    .dataframe tbody tr th:only-of-type {\n",
       "        vertical-align: middle;\n",
       "    }\n",
       "\n",
       "    .dataframe tbody tr th {\n",
       "        vertical-align: top;\n",
       "    }\n",
       "\n",
       "    .dataframe thead th {\n",
       "        text-align: right;\n",
       "    }\n",
       "</style>\n",
       "<table border=\"1\" class=\"dataframe\">\n",
       "  <thead>\n",
       "    <tr style=\"text-align: right;\">\n",
       "      <th title=\"\"></th>\n",
       "      <th title=\"Epoch\">Epoch</th>\n",
       "      <th title=\"LearningRate\">LearningRate</th>\n",
       "      <th title=\"Loss\">Loss</th>\n",
       "      <th title=\"FitError\">FitError</th>\n",
       "      <th title=\"L2Norm\">L2Norm</th>\n",
       "    </tr>\n",
       "  </thead>\n",
       "  <tbody>\n",
       "    <tr>\n",
       "      <th>0</th>\n",
       "      <td>1</td>\n",
       "      <td>0.001</td>\n",
       "      <td>1.611251</td>\n",
       "      <td>0.904167</td>\n",
       "      <td>0.0004</td>\n",
       "    </tr>\n",
       "  </tbody>\n",
       "</table>\n",
       "</div>\n",
       "</div>\n",
       "<div class=\"cas-results-key\"><hr/><b>&#167; OutputCasTables</b></div>\n",
       "<div class=\"cas-results-body\">\n",
       "<div>\n",
       "<style scoped>\n",
       "    .dataframe tbody tr th:only-of-type {\n",
       "        vertical-align: middle;\n",
       "    }\n",
       "\n",
       "    .dataframe tbody tr th {\n",
       "        vertical-align: top;\n",
       "    }\n",
       "\n",
       "    .dataframe thead th {\n",
       "        text-align: right;\n",
       "    }\n",
       "</style>\n",
       "<table border=\"1\" class=\"dataframe\">\n",
       "  <thead>\n",
       "    <tr style=\"text-align: right;\">\n",
       "      <th title=\"\"></th>\n",
       "      <th title=\"CAS Library\">casLib</th>\n",
       "      <th title=\"Name\">Name</th>\n",
       "      <th title=\"Number of Rows\">Rows</th>\n",
       "      <th title=\"Number of Columns\">Columns</th>\n",
       "      <th title=\"Table\">casTable</th>\n",
       "    </tr>\n",
       "  </thead>\n",
       "  <tbody>\n",
       "    <tr>\n",
       "      <th>0</th>\n",
       "      <td>CASUSER(weshiz)</td>\n",
       "      <td>lenet5_weights</td>\n",
       "      <td>772</td>\n",
       "      <td>3</td>\n",
       "      <td>CASTable('lenet5_weights', caslib='CASUSER(wes...</td>\n",
       "    </tr>\n",
       "  </tbody>\n",
       "</table>\n",
       "</div>\n",
       "</div>\n",
       "<div class=\"cas-output-area\"></div>\n",
       "<p class=\"cas-results-performance\"><small><span class=\"cas-elapsed\">elapsed 0.0241s</span> &#183; <span class=\"cas-user\">user 0.0355s</span> &#183; <span class=\"cas-sys\">sys 0.0105s</span> &#183; <span class=\"cas-memory\">mem 12.9MB</span></small></p>"
      ],
      "text/plain": [
       "[ModelInfo]\n",
       "\n",
       "                                         Descr                         Value\n",
       " 0                                  Model Name                        lenet5\n",
       " 1                                  Model Type  Convolutional Neural Network\n",
       " 2                            Number of Layers                             3\n",
       " 3                      Number of Input Layers                             1\n",
       " 4                     Number of Output Layers                             1\n",
       " 5              Number of Convolutional Layers                             0\n",
       " 6                    Number of Pooling Layers                             0\n",
       " 7            Number of Fully Connected Layers                             0\n",
       " 8                       Number of FCMP Layers                             1\n",
       " 9                 Number of Weight Parameters                           768\n",
       " 10                  Number of Bias Parameters                             4\n",
       " 11           Total Number of Model Parameters                           772\n",
       " 12  Approximate Memory Cost for Training (MB)                             1\n",
       "\n",
       "[OptIterHistory]\n",
       "\n",
       "    Epoch  LearningRate      Loss  FitError  L2Norm\n",
       " 0      1         0.001  1.611251  0.904167  0.0004\n",
       "\n",
       "[OutputCasTables]\n",
       "\n",
       "             casLib            Name  Rows  Columns  \\\n",
       " 0  CASUSER(weshiz)  lenet5_weights   772        3   \n",
       " \n",
       "                                             casTable  \n",
       " 0  CASTable('lenet5_weights', caslib='CASUSER(wes...  \n",
       "\n",
       "+ Elapsed: 0.0241s, user: 0.0355s, sys: 0.0105s, mem: 12.9mb"
      ]
     },
     "execution_count": 24,
     "metadata": {},
     "output_type": "execute_result"
    }
   ],
   "source": [
    "model.fit(data=test, optimizer=optimizer, n_threads=8, target='_label_', inputs='_image_', nominals='_label_')"
   ]
  },
  {
   "cell_type": "code",
   "execution_count": 25,
   "metadata": {},
   "outputs": [
    {
     "name": "stdout",
     "output_type": "stream",
     "text": [
      "NOTE: Due to data distribution, miniBatchSize has been limited to 3.\n"
     ]
    },
    {
     "data": {
      "text/html": [
       "<div class=\"cas-results-key\"><b>&#167; ScoreInfo</b></div>\n",
       "<div class=\"cas-results-body\">\n",
       "<div>\n",
       "<style scoped>\n",
       "    .dataframe tbody tr th:only-of-type {\n",
       "        vertical-align: middle;\n",
       "    }\n",
       "\n",
       "    .dataframe tbody tr th {\n",
       "        vertical-align: top;\n",
       "    }\n",
       "\n",
       "    .dataframe thead th {\n",
       "        text-align: right;\n",
       "    }\n",
       "</style>\n",
       "<table border=\"1\" class=\"dataframe\">\n",
       "  <thead>\n",
       "    <tr style=\"text-align: right;\">\n",
       "      <th title=\"\"></th>\n",
       "      <th title=\"Descr\">Descr</th>\n",
       "      <th title=\"Value\">Value</th>\n",
       "    </tr>\n",
       "  </thead>\n",
       "  <tbody>\n",
       "    <tr>\n",
       "      <th>0</th>\n",
       "      <td>Number of Observations Read</td>\n",
       "      <td>179</td>\n",
       "    </tr>\n",
       "    <tr>\n",
       "      <th>1</th>\n",
       "      <td>Number of Observations Used</td>\n",
       "      <td>179</td>\n",
       "    </tr>\n",
       "    <tr>\n",
       "      <th>2</th>\n",
       "      <td>Misclassification Error (%)</td>\n",
       "      <td>86.59218</td>\n",
       "    </tr>\n",
       "    <tr>\n",
       "      <th>3</th>\n",
       "      <td>Loss Error</td>\n",
       "      <td>1.619212</td>\n",
       "    </tr>\n",
       "  </tbody>\n",
       "</table>\n",
       "</div>\n",
       "</div>\n",
       "<div class=\"cas-results-key\"><hr/><b>&#167; OutputCasTables</b></div>\n",
       "<div class=\"cas-results-body\">\n",
       "<div>\n",
       "<style scoped>\n",
       "    .dataframe tbody tr th:only-of-type {\n",
       "        vertical-align: middle;\n",
       "    }\n",
       "\n",
       "    .dataframe tbody tr th {\n",
       "        vertical-align: top;\n",
       "    }\n",
       "\n",
       "    .dataframe thead th {\n",
       "        text-align: right;\n",
       "    }\n",
       "</style>\n",
       "<table border=\"1\" class=\"dataframe\">\n",
       "  <thead>\n",
       "    <tr style=\"text-align: right;\">\n",
       "      <th title=\"\"></th>\n",
       "      <th title=\"CAS Library\">casLib</th>\n",
       "      <th title=\"Name\">Name</th>\n",
       "      <th title=\"Number of Rows\">Rows</th>\n",
       "      <th title=\"Number of Columns\">Columns</th>\n",
       "      <th title=\"Table\">casTable</th>\n",
       "    </tr>\n",
       "  </thead>\n",
       "  <tbody>\n",
       "    <tr>\n",
       "      <th>0</th>\n",
       "      <td>CASUSER(weshiz)</td>\n",
       "      <td>out</td>\n",
       "      <td>179</td>\n",
       "      <td>244</td>\n",
       "      <td>CASTable('out', caslib='CASUSER(weshiz)')</td>\n",
       "    </tr>\n",
       "    <tr>\n",
       "      <th>1</th>\n",
       "      <td>CASUSER(weshiz)</td>\n",
       "      <td>Valid_Res_2HKkgS</td>\n",
       "      <td>179</td>\n",
       "      <td>11</td>\n",
       "      <td>CASTable('Valid_Res_2HKkgS', caslib='CASUSER(w...</td>\n",
       "    </tr>\n",
       "  </tbody>\n",
       "</table>\n",
       "</div>\n",
       "</div>\n",
       "<div class=\"cas-output-area\"></div>\n",
       "<p class=\"cas-results-performance\"><small><span class=\"cas-elapsed\">elapsed 0.045s</span> &#183; <span class=\"cas-user\">user 0.0626s</span> &#183; <span class=\"cas-sys\">sys 0.0418s</span> &#183; <span class=\"cas-memory\">mem 337MB</span></small></p>"
      ],
      "text/plain": [
       "[ScoreInfo]\n",
       "\n",
       "                          Descr         Value\n",
       " 0  Number of Observations Read           179\n",
       " 1  Number of Observations Used           179\n",
       " 2  Misclassification Error (%)      86.59218\n",
       " 3                   Loss Error      1.619212\n",
       "\n",
       "[OutputCasTables]\n",
       "\n",
       "             casLib              Name  Rows  Columns  \\\n",
       " 0  CASUSER(weshiz)               out   179      244   \n",
       " 1  CASUSER(weshiz)  Valid_Res_2HKkgS   179       11   \n",
       " \n",
       "                                             casTable  \n",
       " 0          CASTable('out', caslib='CASUSER(weshiz)')  \n",
       " 1  CASTable('Valid_Res_2HKkgS', caslib='CASUSER(w...  \n",
       "\n",
       "+ Elapsed: 0.045s, user: 0.0626s, sys: 0.0418s, mem: 337mb"
      ]
     },
     "execution_count": 25,
     "metadata": {},
     "output_type": "execute_result"
    }
   ],
   "source": [
    "model.predict(test, layer_image_type='wide', layers=['FCMPLayer1', 'Input1'], layer_out='out')"
   ]
  },
  {
   "cell_type": "code",
   "execution_count": 26,
   "metadata": {},
   "outputs": [
    {
     "data": {
      "text/html": [
       "<div class=\"cas-output-area\"></div>\n",
       "<p class=\"cas-results-performance\"><small><span class=\"cas-elapsed\">elapsed 0.000203s</span> &#183; <span class=\"cas-user\">user 0.000142s</span> &#183; <span class=\"cas-sys\">sys 4.1e-05s</span> &#183; <span class=\"cas-memory\">mem 0.282MB</span></small></p>"
      ],
      "text/plain": [
       "+ Elapsed: 0.000203s, user: 0.000142s, sys: 4.1e-05s, mem: 0.282mb"
      ]
     },
     "execution_count": 26,
     "metadata": {},
     "output_type": "execute_result"
    }
   ],
   "source": [
    "s.altertable('out', drop='_image_')"
   ]
  },
  {
   "cell_type": "code",
   "execution_count": 27,
   "metadata": {},
   "outputs": [
    {
     "data": {
      "text/plain": [
       "_filename_0           Aflatoxin B1.PNG\n",
       "_label_                  chemical_test\n",
       "_id_                                 1\n",
       "_LayerAct_0_0_0_0_                   1\n",
       "_LayerAct_0_0_0_1_            0.992157\n",
       "                            ...       \n",
       "_LayerAct_1_2_7_3_            0.994398\n",
       "_LayerAct_1_2_7_4_            0.997759\n",
       "_LayerAct_1_2_7_5_             0.99944\n",
       "_LayerAct_1_2_7_6_            0.997759\n",
       "_LayerAct_1_2_7_7_            0.996078\n",
       "Name: 0, Length: 243, dtype: object"
      ]
     },
     "execution_count": 27,
     "metadata": {},
     "output_type": "execute_result"
    }
   ],
   "source": [
    "s.fetch('out').Fetch.loc[0]"
   ]
  },
  {
   "cell_type": "code",
   "execution_count": 28,
   "metadata": {
    "scrolled": true
   },
   "outputs": [],
   "source": [
    "layer_out = s.fetch('out').Fetch.iloc[0, 3:].values"
   ]
  },
  {
   "cell_type": "code",
   "execution_count": 29,
   "metadata": {},
   "outputs": [
    {
     "data": {
      "text/plain": [
       "array([[[1.0, 0.9921569228172302, 1.0],\n",
       "        [1.0, 1.0, 0.9843137860298157],\n",
       "        [1.0, 0.9803922176361084, 1.0],\n",
       "        [0.5490196347236633, 0.9843137860298157, 1.0]],\n",
       "\n",
       "       [[1.0, 0.9921569228172302, 1.0],\n",
       "        [0.9960784912109375, 1.0, 0.9921569228172302],\n",
       "        [1.0, 1.0, 1.0],\n",
       "        [0.9843137860298157, 1.0, 0.9803922176361084]],\n",
       "\n",
       "       [[1.0, 0.5490196347236633, 0.9843137860298157],\n",
       "        [1.0, 1.0, 0.9921569228172302],\n",
       "        [1.0, 0.9960784912109375, 1.0],\n",
       "        [0.9921569228172302, 1.0, 1.0]],\n",
       "\n",
       "       [[1.0, 0.9843137860298157, 1.0],\n",
       "        [0.9803922176361084, 1.0, 0.5490196347236633],\n",
       "        [0.9843137860298157, 1.0, 1.0],\n",
       "        [0.9921569228172302, 1.0, 0.9960784912109375]]], dtype=object)"
      ]
     },
     "execution_count": 29,
     "metadata": {},
     "output_type": "execute_result"
    }
   ],
   "source": [
    "layer_out[:4*4*3].reshape(4, 4, 3)"
   ]
  },
  {
   "cell_type": "code",
   "execution_count": 30,
   "metadata": {},
   "outputs": [
    {
     "data": {
      "text/plain": [
       "array([[[1.0, 0.9966386556625366, 0.993277370929718],\n",
       "        [0.9943978190422058, 0.9977591037750244, 1.0],\n",
       "        [1.0, 1.0, 1.0],\n",
       "        [0.995198130607605, 0.9903962016105652, 0.9919968247413635],\n",
       "        [0.9967987537384033, 0.9987995028495789, 0.9951980710029602],\n",
       "        [0.9915966391563416, 1.0, 0.9937575459480286],\n",
       "        [0.9875150322914124, 0.989595890045166, 0.9958383440971375],\n",
       "        [0.9975990653038025, 0.9903962016105652, 0.9831933379173279]],\n",
       "\n",
       "       [[1.0, 0.9399760365486145, 0.8799520134925842],\n",
       "        [0.8986794948577881, 0.9567827582359314, 0.9941576719284058],\n",
       "        [0.9900760650634766, 0.9859944581985474, 1.0],\n",
       "        [0.8600240349769592, 0.7200480699539185, 0.7635054588317871],\n",
       "        [0.8986794948577881, 0.989595890045166, 0.9919968247413635],\n",
       "        [0.994397759437561, 1.0, 0.833853542804718],\n",
       "        [0.667707085609436, 0.7192477583885193, 0.8796318769454956],\n",
       "        [0.9883953928947449, 0.9939175844192505, 0.9994397759437561]],\n",
       "\n",
       "       [[1.0, 0.9152461290359497, 0.8304922580718994],\n",
       "        [0.8568227887153625, 0.93869549036026, 0.9939175844192505],\n",
       "        [0.9958383440971375, 0.9977591633796692, 1.0],\n",
       "        [0.9966386556625366, 0.993277370929718, 0.9943978190422058],\n",
       "        [0.9977591037750244, 0.9994397759437561, 0.9977591633796692],\n",
       "        [0.9960784912109375, 1.0, 0.9966386556625366],\n",
       "        [0.993277370929718, 0.9943978190422058, 0.9977591037750244],\n",
       "        [1.0, 1.0, 1.0]],\n",
       "\n",
       "       [[1.0, 0.995198130607605, 0.9903962016105652],\n",
       "        [0.9919968247413635, 0.9967987537384033, 0.9987995028495789],\n",
       "        [0.9951980710029602, 0.9915966391563416, 1.0],\n",
       "        [0.9937575459480286, 0.9875150322914124, 0.989595890045166],\n",
       "        [0.9958383440971375, 0.9975990653038025, 0.9903962016105652],\n",
       "        [0.9831933379173279, 1.0, 0.9399760365486145],\n",
       "        [0.8799520134925842, 0.8986794948577881, 0.9567827582359314],\n",
       "        [0.9941576719284058, 0.9900760650634766, 0.9859944581985474]],\n",
       "\n",
       "       [[1.0, 0.8600240349769592, 0.7200480699539185],\n",
       "        [0.7635054588317871, 0.8986794948577881, 0.989595890045166],\n",
       "        [0.9919968247413635, 0.994397759437561, 1.0],\n",
       "        [0.833853542804718, 0.667707085609436, 0.7192477583885193],\n",
       "        [0.8796318769454956, 0.9883953928947449, 0.9939175844192505],\n",
       "        [0.9994397759437561, 1.0, 0.9152461290359497],\n",
       "        [0.8304922580718994, 0.8568227887153625, 0.93869549036026],\n",
       "        [0.9939175844192505, 0.9958383440971375, 0.9977591633796692]],\n",
       "\n",
       "       [[1.0, 0.9966386556625366, 0.993277370929718],\n",
       "        [0.9943978190422058, 0.9977591037750244, 0.9994397759437561],\n",
       "        [0.9977591633796692, 0.9960784912109375, 1.0],\n",
       "        [0.9966386556625366, 0.993277370929718, 0.9943978190422058],\n",
       "        [0.9977591037750244, 1.0, 1.0],\n",
       "        [1.0, 1.0, 0.995198130607605],\n",
       "        [0.9903962016105652, 0.9919968247413635, 0.9967987537384033],\n",
       "        [0.9987995028495789, 0.9951980710029602, 0.9915966391563416]],\n",
       "\n",
       "       [[1.0, 0.9937575459480286, 0.9875150322914124],\n",
       "        [0.989595890045166, 0.9958383440971375, 0.9975990653038025],\n",
       "        [0.9903962016105652, 0.9831933379173279, 1.0],\n",
       "        [0.9399760365486145, 0.8799520134925842, 0.8986794948577881],\n",
       "        [0.9567827582359314, 0.9941576719284058, 0.9900760650634766],\n",
       "        [0.9859944581985474, 1.0, 0.8600240349769592],\n",
       "        [0.7200480699539185, 0.7635054588317871, 0.8986794948577881],\n",
       "        [0.989595890045166, 0.9919968247413635, 0.994397759437561]],\n",
       "\n",
       "       [[1.0, 0.833853542804718, 0.667707085609436],\n",
       "        [0.7192477583885193, 0.8796318769454956, 0.9883953928947449],\n",
       "        [0.9939175844192505, 0.9994397759437561, 1.0],\n",
       "        [0.9152461290359497, 0.8304922580718994, 0.8568227887153625],\n",
       "        [0.93869549036026, 0.9939175844192505, 0.9958383440971375],\n",
       "        [0.9977591633796692, 1.0, 0.9966386556625366],\n",
       "        [0.993277370929718, 0.9943978190422058, 0.9977591037750244],\n",
       "        [0.9994397759437561, 0.9977591633796692, 0.9960784912109375]]],\n",
       "      dtype=object)"
      ]
     },
     "execution_count": 30,
     "metadata": {},
     "output_type": "execute_result"
    }
   ],
   "source": [
    "layer_out[4*4*3:].reshape(8, 8, 3)"
   ]
  },
  {
   "cell_type": "code",
   "execution_count": 31,
   "metadata": {},
   "outputs": [
    {
     "data": {
      "text/html": [
       "<div class=\"cas-output-area\"></div>\n",
       "<p class=\"cas-results-performance\"><small><span class=\"cas-elapsed\">elapsed 6.7e-05s</span> &#183; <span class=\"cas-sys\">sys 6.3e-05s</span> &#183; <span class=\"cas-memory\">mem 0.203MB</span></small></p>"
      ],
      "text/plain": [
       "+ Elapsed: 6.7e-05s, sys: 6.3e-05s, mem: 0.203mb"
      ]
     },
     "execution_count": 31,
     "metadata": {},
     "output_type": "execute_result"
    }
   ],
   "source": [
    "s.endsession()"
   ]
  },
  {
   "cell_type": "code",
   "execution_count": null,
   "metadata": {},
   "outputs": [],
   "source": []
  }
 ],
 "metadata": {
  "kernelspec": {
   "display_name": "pytorch",
   "language": "python",
   "name": "pytorch"
  },
  "language_info": {
   "codemirror_mode": {
    "name": "ipython",
    "version": 3
   },
   "file_extension": ".py",
   "mimetype": "text/x-python",
   "name": "python",
   "nbconvert_exporter": "python",
   "pygments_lexer": "ipython3",
   "version": "3.6.8"
  }
 },
 "nbformat": 4,
 "nbformat_minor": 2
}
